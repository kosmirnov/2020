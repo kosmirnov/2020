{
 "cells": [
  {
   "cell_type": "code",
   "execution_count": 422,
   "metadata": {},
   "outputs": [],
   "source": [
    "import pandas as pd\n",
    "import yfinance as yf\n",
    "import bs4 as bs\n",
    "import pickle\n",
    "import requests\n",
    "import numpy as np\n"
   ]
  },
  {
   "cell_type": "code",
   "execution_count": 423,
   "metadata": {},
   "outputs": [],
   "source": [
    "# function to get the tickers using webscrapping from wikipedia\n",
    "def sp500_tickers():\n",
    "    resp = requests.get('http://en.wikipedia.org/wiki/List_of_S%26P_500_companies')\n",
    "    soup = bs.BeautifulSoup(resp.text, 'lxml')\n",
    "    table = soup.find('table', {'class': 'wikitable sortable'})\n",
    "    tickers = []\n",
    "    for row in table.findAll('tr')[1:]:\n",
    "        ticker = row.findAll('td')[0].text\n",
    "        tickers.append(ticker)\n",
    "    \n",
    "    tickers=[s[:-1] for s in tickers] #adjust strings\n",
    "    \n",
    "    with open(\"sp500tickers.pickle\",\"wb\") as f:\n",
    "        pickle.dump(tickers,f)\n",
    "        \n",
    "    return tickers\n",
    "\n",
    "tickers=sp500_tickers()"
   ]
  },
  {
   "cell_type": "code",
   "execution_count": 81,
   "metadata": {
    "scrolled": false
   },
   "outputs": [],
   "source": [
    "#function to download data from Yahoo Finance \n",
    "def get_data(tickers,date_start,date_end):\n",
    "    df = pd.DataFrame(columns=tickers)\n",
    "    for ticker in tickers:\n",
    "        df[ticker]=yf.download(ticker,date_start,date_end)['Adj Close']\n",
    "    return df\n",
    "\n",
    "#specify ticker and dates\n",
    "dfget_data(tickers,\"2010-01-01\",\"2019-01-01\")"
   ]
  },
  {
   "cell_type": "code",
   "execution_count": 295,
   "metadata": {},
   "outputs": [],
   "source": [
    "df_clean=df.dropna(axis=1)\n",
    "tickers_clean=df_clean.columns"
   ]
  },
  {
   "cell_type": "code",
   "execution_count": 331,
   "metadata": {},
   "outputs": [],
   "source": [
    "df_clean_returns=df_clean.pct_change()\n",
    "vol_df=df_clean_returns.std()*np.sqrt(250)"
   ]
  },
  {
   "cell_type": "code",
   "execution_count": 480,
   "metadata": {},
   "outputs": [
    {
     "name": "stdout",
     "output_type": "stream",
     "text": [
      "MMM     0.147203\n",
      "ABT     0.137910\n",
      "ABMD    0.353804\n",
      "ACN     0.164488\n",
      "ATVI    0.196466\n",
      "          ...   \n",
      "XLNX    0.188542\n",
      "YUM     0.184078\n",
      "ZBRA    0.254681\n",
      "ZBH     0.164398\n",
      "ZION    0.220402\n",
      "Length: 452, dtype: float64\n",
      "MMM     0.185263\n",
      "ABT     0.184818\n",
      "ABMD    0.459786\n",
      "ACN     0.215679\n",
      "ATVI    0.293198\n",
      "          ...   \n",
      "XLNX    0.264983\n",
      "YUM     0.228975\n",
      "ZBRA    0.326808\n",
      "ZBH     0.222412\n",
      "ZION    0.320216\n",
      "Length: 452, dtype: float64\n"
     ]
    }
   ],
   "source": [
    "class Returns:\n",
    "    def __init__(self,data,tickers):\n",
    "        self.data=data\n",
    "        self.tickers=tickers\n",
    "        \n",
    "    def annualized_return(self,year):\n",
    "        total_return = pd.DataFrame(columns=self.tickers)\n",
    "        for ticker in self.data:\n",
    "            total_return[ticker]=pd.Series((self.data[ticker][-1]-self.data[ticker][0])/self.data[ticker][0])\n",
    "        annualized_return_raw=total_return.apply(lambda num: (((1 + num)**(1/year))-1))\n",
    "        annualized_return_melt=annualized_return_raw.melt()[\"value\"]\n",
    "        annualized_return_melt.index=self.tickers\n",
    "        return annualized_return_melt\n",
    "    \n",
    "    def std_df(self):\n",
    "        std_df=self.data.pct_change().std()*np.sqrt(250)\n",
    "        return vol_df\n",
    "    \n",
    "    def std_df_neg(self):\n",
    "        df_clean_returns=self.data.pct_change()\n",
    "        vol_df_neg=df_clean_returns[df_clean_returns < 0].std()*np.sqrt(250)     \n",
    "        return vol_df_neg\n",
    "    \n",
    "#annualized_return_melt[\"value\"]\n",
    "#annualized_return=annualized_return(self.data,self.tickers,9)\n",
    "#annualized_return.set_index(self.tickers,inplace=True)\n",
    "#print(annualized_return)\n",
    "returns=Returns(df_clean,tickers_clean)\n",
    "annualized_returns=returns.annualized_return(9)\n",
    "std_df=returns.std_df()\n",
    "std_df_neg=returns.std_df_neg()"
   ]
  },
  {
   "cell_type": "code",
   "execution_count": 486,
   "metadata": {},
   "outputs": [
    {
     "name": "stdout",
     "output_type": "stream",
     "text": [
      "APA    -0.404462\n",
      "DVN    -0.336875\n",
      "FCX    -0.256887\n",
      "ARNC   -0.226400\n",
      "GE     -0.209121\n",
      "          ...   \n",
      "HD      1.194032\n",
      "UNH     1.211593\n",
      "EXR     1.233856\n",
      "TDG     1.281542\n",
      "NI      1.311717\n",
      "Length: 452, dtype: float64\n",
      "APA    -0.600727\n",
      "DVN    -0.494947\n",
      "FCX    -0.370553\n",
      "ARNC   -0.309196\n",
      "SLB    -0.294652\n",
      "          ...   \n",
      "HD      1.727471\n",
      "MKTX    1.733992\n",
      "EXR     1.774186\n",
      "UNH     1.777863\n",
      "NI      1.811911\n",
      "Length: 452, dtype: float64\n",
      "GS      0.000033\n",
      "XRAY    0.000047\n",
      "IBM     0.000084\n",
      "TPR     0.000127\n",
      "WU      0.000130\n",
      "          ...   \n",
      "HD      0.005108\n",
      "UNH     0.005184\n",
      "EXR     0.005279\n",
      "TDG     0.005483\n",
      "NI      0.005612\n",
      "Length: 427, dtype: float64\n",
      "GS      0.000032\n",
      "XRAY    0.000042\n",
      "IBM     0.000078\n",
      "WU      0.000108\n",
      "TPR     0.000115\n",
      "          ...   \n",
      "HD      0.005289\n",
      "MKTX    0.005309\n",
      "EXR     0.005432\n",
      "UNH     0.005443\n",
      "NI      0.005548\n",
      "Length: 427, dtype: float64\n"
     ]
    }
   ],
   "source": [
    "class RAR: \n",
    "    def __init__(self,rfr,annualized_return):\n",
    "        self.rfr=rfr\n",
    "        self.annualized_return=annualized_return\n",
    "\n",
    "    def risk_ratio(self,std_df):\n",
    "        sharpe_ratio=(self.annualized_return-self.rfr)/std_df\n",
    "        return sharpe_ratio.sort_values()\n",
    "    \n",
    "    def risk_ratio_weights(self,std_df):\n",
    "        sharpe_ratio=(self.annualized_return-self.rfr)/std_df\n",
    "        sharpe_ratio_pos=sharpe_ratio[sharpe_ratio>0]\n",
    "        sharpe_ratio_weights=sharpe_ratio_pos/sharpe_ratio_pos.sum()\n",
    "        return sharpe_ratio_weights.sort_values()\n",
    "    \n",
    "    \n",
    "rfr=0.01\n",
    "RAR=RAR(rfr,annualized_returns)\n",
    "sharpe_ratio=RAR.risk_ratio(std_df)\n",
    "sortino_ratio=RAR.risk_ratio(std_df_neg)\n",
    "print(sharpe_ratio)\n",
    "print(sortino_ratio)\n",
    "sharpe_ratio_weights=RAR.risk_ratio_weights(std_df)\n",
    "sortino_ratio_weights=RAR.risk_ratio_weights(std_df_neg)\n",
    "print(sharpe_ratio_weights)\n",
    "print(sortino_ratio_weights)\n",
    "#RAR.sharpe_ratio_weights()\n",
    "#sharp_weights=sharp_ratio(0.01,annualized_return,vol_df)\n",
    "#print(sharp_weights)"
   ]
  }
 ],
 "metadata": {
  "kernelspec": {
   "display_name": "Python 3",
   "language": "python",
   "name": "python3"
  },
  "language_info": {
   "codemirror_mode": {
    "name": "ipython",
    "version": 3
   },
   "file_extension": ".py",
   "mimetype": "text/x-python",
   "name": "python",
   "nbconvert_exporter": "python",
   "pygments_lexer": "ipython3",
   "version": "3.7.4"
  }
 },
 "nbformat": 4,
 "nbformat_minor": 2
}
